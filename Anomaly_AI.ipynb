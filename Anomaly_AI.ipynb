{
 "cells": [
  {
   "cell_type": "code",
   "execution_count": null,
   "metadata": {},
   "outputs": [],
   "source": [
    "import numpy as np\n",
    "import pandas as pd\n"
   ]
  },
  {
   "cell_type": "code",
   "execution_count": 7,
   "metadata": {},
   "outputs": [
    {
     "name": "stdout",
     "output_type": "stream",
     "text": [
      "                                           text_combined  label\n",
      "100    enron hpl actuals november 10 12 2000 november...      0\n",
      "101    enron hpl actuals november 20 2000 teco tap 30...      0\n",
      "102    day change revision 2 txu fuel trans k 501 nov...      0\n",
      "103    revison 1 enron hpl actuals november 10 12 200...      0\n",
      "104    day change revision 1 txu fuel trans k 501 nov...      0\n",
      "...                                                  ...    ...\n",
      "82481  info advantageapartmentscom infoadvantageapart...      1\n",
      "82482  monkeyorg helpdeskmonkeyorg monkeyorg hi josep...      1\n",
      "82483  help center infohelpcentercoza_infohelpcenterc...      1\n",
      "82484  metamask infosofamekarcom verify metamask wall...      1\n",
      "82485  fastway infofastwaycoza_infofastwaycoza_infofa...      1\n",
      "\n",
      "[82386 rows x 2 columns]\n"
     ]
    }
   ],
   "source": [
    "df = pd.read_csv(\"phishing_email.csv\")\n",
    "df_first_100 = df.iloc[100:]\n",
    "print(df_first_100)"
   ]
  },
  {
   "cell_type": "code",
   "execution_count": null,
   "metadata": {},
   "outputs": [],
   "source": []
  }
 ],
 "metadata": {
  "interpreter": {
   "hash": "916dbcbb3f70747c44a77c7bcd40155683ae19c65e1c03b4aa3499c5328201f1"
  },
  "kernelspec": {
   "display_name": "Python 3.10.12 64-bit",
   "language": "python",
   "name": "python3"
  },
  "language_info": {
   "codemirror_mode": {
    "name": "ipython",
    "version": 3
   },
   "file_extension": ".py",
   "mimetype": "text/x-python",
   "name": "python",
   "nbconvert_exporter": "python",
   "pygments_lexer": "ipython3",
   "version": "3.10.12"
  },
  "orig_nbformat": 4
 },
 "nbformat": 4,
 "nbformat_minor": 2
}
